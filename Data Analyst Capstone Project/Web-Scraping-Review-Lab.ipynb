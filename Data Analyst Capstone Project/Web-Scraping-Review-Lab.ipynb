{
 "cells": [
  {
   "cell_type": "markdown",
   "metadata": {},
   "source": [
    "<center>\n",
    "    <img src=\"https://gitlab.com/ibm/skills-network/courses/placeholder101/-/raw/master/labs/module%201/images/IDSNlogo.png\" width=\"300\" alt=\"cognitiveclass.ai logo\"  />\n",
    "</center>\n"
   ]
  },
  {
   "cell_type": "markdown",
   "metadata": {},
   "source": [
    "# **Web Scraping Lab**\n"
   ]
  },
  {
   "cell_type": "markdown",
   "metadata": {},
   "source": [
    "Estimated time needed: **30** minutes\n"
   ]
  },
  {
   "cell_type": "markdown",
   "metadata": {},
   "source": [
    "## Objectives\n"
   ]
  },
  {
   "cell_type": "markdown",
   "metadata": {},
   "source": [
    "After completing this lab you will be able to:\n"
   ]
  },
  {
   "cell_type": "markdown",
   "metadata": {},
   "source": [
    "*   Download a webpage using requests module\n",
    "*   Scrape all links from a web page\n",
    "*   Scrape all image urls from a web page\n",
    "*   Scrape data from html tables\n"
   ]
  },
  {
   "cell_type": "markdown",
   "metadata": {},
   "source": [
    "## Scrape [www.ibm.com](http://www.ibm.com/?utm_medium=Exinfluencer&utm_source=Exinfluencer&utm_content=000026UJ&utm_term=10006555&utm_id=NA-SkillsNetwork-Channel-SkillsNetworkCoursesIBMDA0321ENSkillsNetwork21426264-2021-01-01)\n"
   ]
  },
  {
   "cell_type": "markdown",
   "metadata": {},
   "source": [
    "Import the required modules and functions\n"
   ]
  },
  {
   "cell_type": "code",
   "execution_count": 2,
   "metadata": {},
   "outputs": [],
   "source": [
    "from bs4 import BeautifulSoup # this module helps in web scrapping.\n",
    "import requests  # this module helps us to download a web page"
   ]
  },
  {
   "cell_type": "markdown",
   "metadata": {},
   "source": [
    "Download the contents of the web page\n"
   ]
  },
  {
   "cell_type": "code",
   "execution_count": 2,
   "metadata": {},
   "outputs": [],
   "source": [
    "url = \"http://www.ibm.com\""
   ]
  },
  {
   "cell_type": "code",
   "execution_count": 3,
   "metadata": {},
   "outputs": [],
   "source": [
    "# get the contents of the webpage in text format and store in a variable called data\n",
    "data  = requests.get(url).text "
   ]
  },
  {
   "cell_type": "markdown",
   "metadata": {},
   "source": [
    "Create a soup object using the class BeautifulSoup\n"
   ]
  },
  {
   "cell_type": "code",
   "execution_count": 4,
   "metadata": {},
   "outputs": [],
   "source": [
    "soup = BeautifulSoup(data,\"html5lib\")  # create a soup object using the variable 'data'"
   ]
  },
  {
   "cell_type": "markdown",
   "metadata": {},
   "source": [
    "Scrape all links\n"
   ]
  },
  {
   "cell_type": "code",
   "execution_count": 5,
   "metadata": {},
   "outputs": [
    {
     "name": "stdout",
     "output_type": "stream",
     "text": [
      "https://www.ibm.com/br/pt\n",
      "https://www.ibm.com/sitemap/br/pt\n",
      "https://www.ibm.com/events/think/br-pt/?lnk=hpv18l1\n",
      "https://newsroom.ibm.com/Update-on-our-actions-War-in-Ukraine\n",
      "https://www.ibm.com/analytics/br-pt/data-fabric/\n",
      "https://www.ibm.com/cloud/br-pt/campaign/cloud-simplicity/\n",
      "https://www.ibm.com/consulting/br-pt/\n",
      "https://www.ibm.com/cloud/br-pt/aiops/\n",
      "https://www.ibm.com/about/br-pt/secure-your-business/\n",
      "https://www.ibm.com/br-pt/security/data-breach/threat-intelligence\n",
      "https://www.ibm.com/downloads/cas/WAOV8DGR\n",
      "/br-pt/products/offers-and-discounts?lnk=hpv18t5\n",
      "https://www.ibm.com/br-pt/products/cloud-pak-for-data\n",
      "https://www.ibm.com/br-pt/it-infrastructure/z\n",
      "https://www.ibm.com/br-pt/consulting/experience\n",
      "https://www.ibm.com/br-pt/cloud/turbonomic\n",
      "https://www.ibm.com/br-pt/qradar\n",
      "https://developer.ibm.com/depmodels/cloud/?lnk=hpv18ct16\n",
      "https://developer.ibm.com/technologies/artificial-intelligence?lnk=hpv18ct19\n",
      "https://developer.ibm.com/?lnk=hpv18ct9\n",
      "https://www.ibm.com/docs/en?lnk=hpv18ct14\n",
      "https://www.redbooks.ibm.com/?lnk=ushpv18ct10\n",
      "https://www.ibm.com/support/home/?lnk=hpv18ct11\n",
      "https://www.ibm.com/training/?lnk=hpv18ct15\n",
      "https://www.ibm.com/br-pt/cloud/automation\n",
      "/br-pt/cloud\n",
      "https://www.ibm.com/br-pt/cloud/hybrid?lnk=hpv18pt14\n",
      "https://www.ibm.com/br-pt/analytics?lnk=hpv18pt1\n",
      "https://www.ibm.com/br-pt/security?lnk=hpv18pt9\n",
      "https://www.ibm.com/br-pt/watson?lnk=ushpv18pt17\n",
      "https://www.ibm.com/consulting/br-pt/\n",
      "https://www.ibm.com/br-pt/garage?lnk=hpv18pt13\n",
      "https://www.ibm.com/br-pt/cloud/learn/cloud-computing\n",
      "/br-pt/cloud/learn/hybrid-cloud\n",
      "/cloud/learn/kubernetes?lnk=hpv18ct8\n",
      "https://www.ibm.com/br-pt/cloud/redhat?lnk=hpv18ct13\n",
      "/br-pt/analytics/journey-to-ai\n",
      "https://www.ibm.com/quantum-computing?lnk=hpv18ct18\n",
      "https://www.ibm.com/br-pt/products/spss-statistics?lnk=ushpv18ct7\n",
      "https://www.ibm.com/br-pt/blockchain?lnk=hpv18ct1\n",
      "https://www.ibm.com/thought-leadership/institute-business-value/?lnk=hpv18pt12\n",
      "https://www.ibm.com/case-studies/coca-cola-european-partners/?lnk=hpv18cs1\n",
      "/case-studies/search?lnk=hpv18cs2\n",
      "#\n"
     ]
    }
   ],
   "source": [
    "for link in soup.find_all('a'):  # in html anchor/link is represented by the tag <a>\n",
    "    print(link.get('href'))"
   ]
  },
  {
   "cell_type": "markdown",
   "metadata": {},
   "source": [
    "Scrape  all images\n"
   ]
  },
  {
   "cell_type": "code",
   "execution_count": 6,
   "metadata": {},
   "outputs": [
    {
     "name": "stdout",
     "output_type": "stream",
     "text": [
      "//1.cms.s81c.com/sites/default/files/2022-02-14/data-fabric-five-levers-444x254.jpg\n",
      "//1.cms.s81c.com/sites/default/files/2022-02-14/cloud-five-levers-444x254.jpg\n",
      "//1.cms.s81c.com/sites/default/files/2022-02-14/consulting-five-levers-444x254.jpg\n",
      "//1.cms.s81c.com/sites/default/files/2022-02-14/automate-five-levers-444x254.jpg\n",
      "//1.cms.s81c.com/sites/default/files/2022-02-14/security-five-levers-444x254.jpg\n",
      "//1.cms.s81c.com/sites/default/files/2022-02-16/data_merch_444x254.jpg\n",
      "//1.cms.s81c.com/sites/default/files/2022-04-07/IBM_Z_Card.jpg\n",
      "//1.cms.s81c.com/sites/default/files/2022-02-16/experience_merch_444x254.jpg\n",
      "//1.cms.s81c.com/sites/default/files/2022-02-16/automate_merch_444x254.jpg\n",
      "//1.cms.s81c.com/sites/default/files/2022-02-16/security_merch_444x254.png\n"
     ]
    }
   ],
   "source": [
    "for link in soup.find_all('img'):# in html image is represented by the tag <img>\n",
    "    print(link.get('src'))"
   ]
  },
  {
   "cell_type": "markdown",
   "metadata": {},
   "source": [
    "## Scrape data from html tables\n"
   ]
  },
  {
   "cell_type": "code",
   "execution_count": null,
   "metadata": {},
   "outputs": [],
   "source": [
    "#The below url contains a html table with data about colors and color codes."
   ]
  },
  {
   "cell_type": "code",
   "execution_count": 1,
   "metadata": {},
   "outputs": [],
   "source": [
    "url = \"https://cf-courses-data.s3.us.cloud-object-storage.appdomain.cloud/IBM-DA0321EN-SkillsNetwork/labs/datasets/HTMLColorCodes.html\""
   ]
  },
  {
   "cell_type": "markdown",
   "metadata": {},
   "source": [
    "Before proceeding to scrape a web site, you need to examine the contents, and the way data is organized on the website. Open the above url in your browser and check how many rows and columns are there in the color table.\n"
   ]
  },
  {
   "cell_type": "code",
   "execution_count": 3,
   "metadata": {},
   "outputs": [],
   "source": [
    "# get the contents of the webpage in text format and store in a variable called data\n",
    "data  = requests.get(url).text"
   ]
  },
  {
   "cell_type": "code",
   "execution_count": 4,
   "metadata": {},
   "outputs": [],
   "source": [
    "soup = BeautifulSoup(data,\"html5lib\")"
   ]
  },
  {
   "cell_type": "code",
   "execution_count": 5,
   "metadata": {},
   "outputs": [],
   "source": [
    "#find a html table in the web page\n",
    "table = soup.find('table') # in html table is represented by the tag <table>"
   ]
  },
  {
   "cell_type": "code",
   "execution_count": 7,
   "metadata": {},
   "outputs": [
    {
     "name": "stdout",
     "output_type": "stream",
     "text": [
      "Number --->Decimal Code(R,G,B)\n",
      "1--->rgb(255,160,122)\n",
      "2--->rgb(250,128,114)\n",
      "3--->rgb(233,150,122)\n",
      "4--->rgb(240,128,128)\n",
      "5--->rgb(255,127,80)\n",
      "6--->rgb(255,99,71)\n",
      "7--->rgb(255,69,0)\n",
      "8--->rgb(255,215,0)\n",
      "9--->rgb(255,165,0)\n",
      "10--->rgb(255,140,0)\n",
      "11--->rgb(255,255,224)\n",
      "12--->rgb(255,250,205)\n",
      "13--->rgb(255,239,213)\n",
      "14--->rgb(255,228,181)\n",
      "15--->rgb(255,218,185)\n",
      "16--->rgb(238,232,170)\n",
      "17--->rgb(240,230,140)\n",
      "18--->rgb(189,183,107)\n",
      "19--->rgb(255,255,0)\n",
      "20--->rgb(124,252,0)\n",
      "21--->rgb(127,255,0)\n",
      "22--->rgb(50,205,50)\n",
      "23--->rgb(0.255.0)\n",
      "24--->rgb(34,139,34)\n",
      "25--->rgb(0,128,0)\n",
      "26--->rgb(176,224,230)\n",
      "27--->rgb(173,216,230)\n",
      "28--->rgb(135,206,250)\n",
      "29--->rgb(135,206,235)\n",
      "30--->rgb(0,191,255)\n",
      "31--->rgb(176,196,222)\n",
      "32--->rgb(30,144,255)\n"
     ]
    }
   ],
   "source": [
    "#Get all rows from the table\n",
    "for row in table.find_all('tr'): # in html table row is represented by the tag <tr>\n",
    "    # Get all columns in each row.\n",
    "    cols = row.find_all('td') # in html a column is represented by the tag <td>\n",
    "    color_name = cols[0].getText() # store the value in column 3 as color_name\n",
    "    color_code = cols[4].getText() # store the value in column 4 as color_code\n",
    "    print(\"{}--->{}\".format(color_name,color_code))"
   ]
  },
  {
   "cell_type": "markdown",
   "metadata": {},
   "source": [
    "## Authors\n"
   ]
  },
  {
   "cell_type": "markdown",
   "metadata": {},
   "source": [
    "Ramesh Sannareddy\n"
   ]
  },
  {
   "cell_type": "markdown",
   "metadata": {},
   "source": [
    "### Other Contributors\n"
   ]
  },
  {
   "cell_type": "markdown",
   "metadata": {},
   "source": [
    "Rav Ahuja\n"
   ]
  },
  {
   "cell_type": "markdown",
   "metadata": {},
   "source": [
    "## Change Log\n"
   ]
  },
  {
   "cell_type": "markdown",
   "metadata": {},
   "source": [
    "| Date (YYYY-MM-DD) | Version | Changed By        | Change Description                 |\n",
    "| ----------------- | ------- | ----------------- | ---------------------------------- |\n",
    "| 2020-10-17        | 0.1     | Ramesh Sannareddy | Created initial version of the lab |\n"
   ]
  },
  {
   "cell_type": "markdown",
   "metadata": {},
   "source": [
    "Copyright © 2020 IBM Corporation. This notebook and its source code are released under the terms of the [MIT License](https://cognitiveclass.ai/mit-license/?utm_medium=Exinfluencer&utm_source=Exinfluencer&utm_content=000026UJ&utm_term=10006555&utm_id=NA-SkillsNetwork-Channel-SkillsNetworkCoursesIBMDA0321ENSkillsNetwork21426264-2021-01-01).\n"
   ]
  }
 ],
 "metadata": {
  "kernelspec": {
   "display_name": "Python 3",
   "language": "python",
   "name": "python3"
  },
  "language_info": {
   "codemirror_mode": {
    "name": "ipython",
    "version": 3
   },
   "file_extension": ".py",
   "mimetype": "text/x-python",
   "name": "python",
   "nbconvert_exporter": "python",
   "pygments_lexer": "ipython3",
   "version": "3.8.8"
  }
 },
 "nbformat": 4,
 "nbformat_minor": 4
}
