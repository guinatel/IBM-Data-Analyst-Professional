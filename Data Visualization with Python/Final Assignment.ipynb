{
 "cells": [
  {
   "cell_type": "markdown",
   "metadata": {},
   "source": [
    "<center>\n",
    "    <img src=\"https://cf-courses-data.s3.us.cloud-object-storage.appdomain.cloud/IBMDeveloperSkillsNetwork-DV0101EN-SkillsNetwork/labs/Module%204/logo.png\" width=\"300\" alt=\"cognitiveclass.ai logo\" />\n",
    "</center>\n"
   ]
  },
  {
   "cell_type": "markdown",
   "metadata": {},
   "source": [
    "## Application\n"
   ]
  },
  {
   "cell_type": "code",
   "execution_count": 1,
   "metadata": {},
   "outputs": [
    {
     "name": "stderr",
     "output_type": "stream",
     "text": [
      " * Running on http://localhost:8050/ (Press CTRL+C to quit)\n",
      "127.0.0.1 - - [07/Jun/2022 11:23:25] \"\u001b[37mGET /_alive_d202d416-ada3-46a6-89ae-aa52f0ab19ec HTTP/1.1\u001b[0m\" 200 -\n"
     ]
    },
    {
     "data": {
      "text/html": [
       "\n",
       "        <iframe\n",
       "            width=\"100%\"\n",
       "            height=\"650\"\n",
       "            src=\"http://localhost:8050/\"\n",
       "            frameborder=\"0\"\n",
       "            allowfullscreen\n",
       "        ></iframe>\n",
       "        "
      ],
      "text/plain": [
       "<IPython.lib.display.IFrame at 0x1c087dfc1c0>"
      ]
     },
     "metadata": {},
     "output_type": "display_data"
    },
    {
     "name": "stderr",
     "output_type": "stream",
     "text": [
      "127.0.0.1 - - [07/Jun/2022 11:23:25] \"\u001b[37mGET / HTTP/1.1\u001b[0m\" 200 -\n",
      "127.0.0.1 - - [07/Jun/2022 11:23:26] \"\u001b[37mGET /_dash-component-suites/dash/deps/polyfill@7.v2_3_1m1651495012.12.1.min.js HTTP/1.1\u001b[0m\" 200 -\n",
      "127.0.0.1 - - [07/Jun/2022 11:23:26] \"\u001b[37mGET /_dash-component-suites/dash/deps/react@16.v2_3_1m1651495012.14.0.min.js HTTP/1.1\u001b[0m\" 200 -\n",
      "127.0.0.1 - - [07/Jun/2022 11:23:26] \"\u001b[37mGET /_dash-component-suites/dash/deps/react-dom@16.v2_3_1m1651495012.14.0.min.js HTTP/1.1\u001b[0m\" 200 -\n",
      "127.0.0.1 - - [07/Jun/2022 11:23:26] \"\u001b[37mGET /_dash-component-suites/dash/deps/prop-types@15.v2_3_1m1651495012.7.2.min.js HTTP/1.1\u001b[0m\" 200 -\n",
      "127.0.0.1 - - [07/Jun/2022 11:23:26] \"\u001b[37mGET /_dash-component-suites/dash/dash-renderer/build/dash_renderer.v2_3_1m1651495012.min.js HTTP/1.1\u001b[0m\" 200 -\n",
      "127.0.0.1 - - [07/Jun/2022 11:23:26] \"\u001b[37mGET /_dash-component-suites/dash/dcc/dash_core_components.v2_3_0m1651495012.js HTTP/1.1\u001b[0m\" 200 -\n",
      "127.0.0.1 - - [07/Jun/2022 11:23:26] \"\u001b[37mGET /_dash-component-suites/dash/dcc/dash_core_components-shared.v2_3_0m1651495012.js HTTP/1.1\u001b[0m\" 200 -\n",
      "127.0.0.1 - - [07/Jun/2022 11:23:26] \"\u001b[37mGET /_dash-component-suites/dash/html/dash_html_components.v2_0_2m1651495012.min.js HTTP/1.1\u001b[0m\" 200 -\n",
      "127.0.0.1 - - [07/Jun/2022 11:23:26] \"\u001b[37mGET /_dash-component-suites/dash/dash_table/bundle.v5_1_1m1651495012.js HTTP/1.1\u001b[0m\" 200 -\n",
      "127.0.0.1 - - [07/Jun/2022 11:23:27] \"\u001b[37mGET /_dash-layout HTTP/1.1\u001b[0m\" 200 -\n",
      "127.0.0.1 - - [07/Jun/2022 11:23:27] \"\u001b[37mGET /_dash-dependencies HTTP/1.1\u001b[0m\" 200 -\n",
      "127.0.0.1 - - [07/Jun/2022 11:23:27] \"\u001b[37mGET /_dash-component-suites/dash/dcc/async-dropdown.js HTTP/1.1\u001b[0m\" 200 -\n",
      "127.0.0.1 - - [07/Jun/2022 11:23:28] \"\u001b[35m\u001b[1mPOST /_dash-update-component HTTP/1.1\u001b[0m\" 500 -\n"
     ]
    },
    {
     "name": "stdout",
     "output_type": "stream",
     "text": [
      "\u001b[1;31m---------------------------------------------------------------------------\u001b[0m\n",
      "\u001b[1;31mTypeError\u001b[0m                                 Traceback (most recent call last)\n",
      "\u001b[1;31mTypeError\u001b[0m: int() argument must be a string, a bytes-like object or a number, not 'NoneType'\n",
      "\n"
     ]
    },
    {
     "name": "stderr",
     "output_type": "stream",
     "text": [
      "127.0.0.1 - - [07/Jun/2022 11:23:52] \"\u001b[37mGET / HTTP/1.1\u001b[0m\" 200 -\n",
      "127.0.0.1 - - [07/Jun/2022 11:23:52] \"\u001b[37mGET /_dash-layout HTTP/1.1\u001b[0m\" 200 -\n",
      "127.0.0.1 - - [07/Jun/2022 11:23:52] \"\u001b[37mGET /_dash-dependencies HTTP/1.1\u001b[0m\" 200 -\n",
      "127.0.0.1 - - [07/Jun/2022 11:23:52] \"\u001b[37mGET /_favicon.ico?v=2.3.1 HTTP/1.1\u001b[0m\" 200 -\n",
      "127.0.0.1 - - [07/Jun/2022 11:23:52] \"\u001b[35m\u001b[1mPOST /_dash-update-component HTTP/1.1\u001b[0m\" 500 -\n",
      "127.0.0.1 - - [07/Jun/2022 11:23:52] \"\u001b[37mGET /_dash-component-suites/dash/dcc/async-dropdown.js HTTP/1.1\u001b[0m\" 200 -\n"
     ]
    },
    {
     "name": "stdout",
     "output_type": "stream",
     "text": [
      "\u001b[1;31m---------------------------------------------------------------------------\u001b[0m\n",
      "\u001b[1;31mTypeError\u001b[0m                                 Traceback (most recent call last)\n",
      "\u001b[1;31mTypeError\u001b[0m: int() argument must be a string, a bytes-like object or a number, not 'NoneType'\n",
      "\n"
     ]
    },
    {
     "name": "stderr",
     "output_type": "stream",
     "text": [
      "127.0.0.1 - - [07/Jun/2022 11:23:54] \"\u001b[35m\u001b[1mPOST /_dash-update-component HTTP/1.1\u001b[0m\" 500 -\n"
     ]
    },
    {
     "name": "stdout",
     "output_type": "stream",
     "text": [
      "\u001b[1;31m---------------------------------------------------------------------------\u001b[0m\n",
      "\u001b[1;31mTypeError\u001b[0m                                 Traceback (most recent call last)\n",
      "\u001b[1;31mTypeError\u001b[0m: int() argument must be a string, a bytes-like object or a number, not 'NoneType'\n",
      "\n"
     ]
    },
    {
     "name": "stderr",
     "output_type": "stream",
     "text": [
      "127.0.0.1 - - [07/Jun/2022 11:23:58] \"\u001b[37mPOST /_dash-update-component HTTP/1.1\u001b[0m\" 200 -\n",
      "127.0.0.1 - - [07/Jun/2022 11:23:58] \"\u001b[37mGET /_dash-component-suites/dash/dcc/async-graph.js HTTP/1.1\u001b[0m\" 200 -\n",
      "127.0.0.1 - - [07/Jun/2022 11:23:58] \"\u001b[37mGET /_dash-component-suites/dash/dcc/async-plotlyjs.js HTTP/1.1\u001b[0m\" 200 -\n",
      "127.0.0.1 - - [07/Jun/2022 11:24:15] \"\u001b[35m\u001b[1mPOST /_dash-update-component HTTP/1.1\u001b[0m\" 500 -\n"
     ]
    },
    {
     "name": "stdout",
     "output_type": "stream",
     "text": [
      "\u001b[1;31m---------------------------------------------------------------------------\u001b[0m\n",
      "\u001b[1;31mTypeError\u001b[0m                                 Traceback (most recent call last)\n",
      "\u001b[1;31mTypeError\u001b[0m: int() argument must be a string, a bytes-like object or a number, not 'NoneType'\n",
      "\n"
     ]
    },
    {
     "name": "stderr",
     "output_type": "stream",
     "text": [
      "127.0.0.1 - - [07/Jun/2022 11:24:22] \"\u001b[37mPOST /_dash-update-component HTTP/1.1\u001b[0m\" 200 -\n",
      "127.0.0.1 - - [07/Jun/2022 11:24:22] \"\u001b[37mGET /_dash-component-suites/dash/dcc/async-graph.js HTTP/1.1\u001b[0m\" 200 -\n",
      "127.0.0.1 - - [07/Jun/2022 11:24:23] \"\u001b[37mGET /_dash-component-suites/dash/dcc/async-plotlyjs.js HTTP/1.1\u001b[0m\" 200 -\n",
      "127.0.0.1 - - [07/Jun/2022 11:24:37] \"\u001b[37mPOST /_dash-update-component HTTP/1.1\u001b[0m\" 200 -\n",
      "127.0.0.1 - - [07/Jun/2022 11:24:48] \"\u001b[37mPOST /_dash-update-component HTTP/1.1\u001b[0m\" 200 -\n"
     ]
    }
   ],
   "source": [
    "# Import required libraries\n",
    "import pandas as pd\n",
    "import dash\n",
    "from dash import dcc\n",
    "from dash import html\n",
    "from dash.dependencies import Input, Output, State\n",
    "from jupyter_dash import JupyterDash\n",
    "import plotly.graph_objects as go\n",
    "import plotly.express as px\n",
    "from dash import no_update\n",
    "\n",
    "\n",
    "# Create a dash application\n",
    "app = JupyterDash(__name__)\n",
    "#JupyterDash.infer_jupyter_proxy_config()\n",
    "\n",
    "# REVIEW1: Clear the layout and do not display exception till callback gets executed\n",
    "app.config.suppress_callback_exceptions = True\n",
    "\n",
    "# Read the airline data into pandas dataframe\n",
    "airline_data =  pd.read_csv('airline_data.csv', \n",
    "                            encoding = \"ISO-8859-1\",\n",
    "                            dtype={'Div1Airport': str, 'Div1TailNum': str, \n",
    "                                   'Div2Airport': str, 'Div2TailNum': str})\n",
    "\n",
    "\n",
    "# List of years \n",
    "year_list = [i for i in range(2005, 2021, 1)]\n",
    "\n",
    "\"\"\"Compute graph data for creating yearly airline performance report \n",
    "\n",
    "Function that takes airline data as input and create 5 dataframes based on the grouping condition to be used for plottling charts and grphs.\n",
    "\n",
    "Argument:\n",
    "     \n",
    "    df: Filtered dataframe\n",
    "    \n",
    "Returns:\n",
    "   Dataframes to create graph. \n",
    "\"\"\"\n",
    "def compute_data_choice_1(df):\n",
    "    # Cancellation Category Count\n",
    "    bar_data = df.groupby(['Month','CancellationCode'])['Flights'].sum().reset_index()\n",
    "    # Average flight time by reporting airline\n",
    "    line_data = df.groupby(['Month','Reporting_Airline'])['AirTime'].mean().reset_index()\n",
    "    # Diverted Airport Landings\n",
    "    div_data = df[df['DivAirportLandings'] != 0.0]\n",
    "    # Source state count\n",
    "    map_data = df.groupby(['OriginState'])['Flights'].sum().reset_index()\n",
    "    # Destination state count\n",
    "    tree_data = df.groupby(['DestState', 'Reporting_Airline'])['Flights'].sum().reset_index()\n",
    "    return bar_data, line_data, div_data, map_data, tree_data\n",
    "\n",
    "\n",
    "\"\"\"Compute graph data for creating yearly airline delay report\n",
    "\n",
    "This function takes in airline data and selected year as an input and performs computation for creating charts and plots.\n",
    "\n",
    "Arguments:\n",
    "    df: Input airline data.\n",
    "    \n",
    "Returns:\n",
    "    Computed average dataframes for carrier delay, weather delay, NAS delay, security delay, and late aircraft delay.\n",
    "\"\"\"\n",
    "def compute_data_choice_2(df):\n",
    "    # Compute delay averages\n",
    "    avg_car = df.groupby(['Month','Reporting_Airline'])['CarrierDelay'].mean().reset_index()\n",
    "    avg_weather = df.groupby(['Month','Reporting_Airline'])['WeatherDelay'].mean().reset_index()\n",
    "    avg_NAS = df.groupby(['Month','Reporting_Airline'])['NASDelay'].mean().reset_index()\n",
    "    avg_sec = df.groupby(['Month','Reporting_Airline'])['SecurityDelay'].mean().reset_index()\n",
    "    avg_late = df.groupby(['Month','Reporting_Airline'])['LateAircraftDelay'].mean().reset_index()\n",
    "    return avg_car, avg_weather, avg_NAS, avg_sec, avg_late\n",
    "\n",
    "\n",
    "# Application layout\n",
    "app.layout = html.Div(children=[html.H1('US Domestic Airline Flights Performance',\n",
    "                                        style={'textAlign': 'center', 'color': '#503D36', 'font-size': 24}), \n",
    "                                # TODO1: Add title to the dashboard\n",
    "                              \n",
    "    \n",
    "                                # REVIEW2: Dropdown creation\n",
    "                                # Create an outer division \n",
    "                                html.Div([\n",
    "                                    # Add an division\n",
    "                                    html.Div([\n",
    "                                        # Create an division for adding dropdown helper text for report type\n",
    "                                        html.Div(\n",
    "                                            [\n",
    "                                            html.H2('Report Type:', style={'margin-right': '2em'}),\n",
    "                                            ]\n",
    "                                        ),\n",
    "                                        # TODO2: Add a dropdown\n",
    "                                        dcc.Dropdown(id='input-type', \n",
    "                                       options=[\n",
    "                                       {'label': 'Yearly Airline Performance Report', 'value': 'OPT1'},\n",
    "                                       {'label': 'Yearly Airline Delay Report', 'value': 'OPT2'}\n",
    "                                                                        ],\n",
    "                                        placeholder='Select a report type',\n",
    "                                        style={'width':'80%', 'padding':'3px', 'font-size':'20px', 'text-align-last':'center'})\n",
    "                                        \n",
    "                                    # Place them next to each other using the division style\n",
    "                                    ], style={'display':'flex'}),\n",
    "                                    \n",
    "                                   # Add next division \n",
    "                                   html.Div([\n",
    "                                       # Create an division for adding dropdown helper text for choosing year\n",
    "                                        html.Div(\n",
    "                                            [\n",
    "                                            html.H2('Choose Year:', style={'margin-right': '2em'})\n",
    "                                            ]\n",
    "                                        ),\n",
    "                                        dcc.Dropdown(id='input-year', \n",
    "                                                     # Update dropdown values using list comphrehension\n",
    "                                                     options=[{'label': i, 'value': i} for i in year_list],\n",
    "                                                     placeholder=\"Select a year\",\n",
    "                                                     style={'width':'80%', 'padding':'3px', 'font-size': '20px', 'text-align-last' : 'center'}),\n",
    "                                            # Place them next to each other using the division style\n",
    "                                            ], style={'display': 'flex'}),  \n",
    "                                          ]),\n",
    "                                \n",
    "                                # Add Computed graphs\n",
    "                                # REVIEW3: Observe how we add an empty division and providing an id that will be updated during callback\n",
    "                                html.Div([ ], id='plot1'),\n",
    "    \n",
    "                                html.Div([\n",
    "                                        html.Div([ ], id='plot2'),\n",
    "                                        html.Div([ ], id='plot3')\n",
    "                                ], style={'display': 'flex'}),\n",
    "                                \n",
    "                                # TODO3: Add a division with two empty divisions inside. See above disvision for example.\n",
    "                                html.Div([\n",
    "                                        html.Div([],id='plot4'),\n",
    "                                        html.Div([],id='plot5'),                                    \n",
    "                                ], style={'display': 'flex'}),\n",
    "                                ])\n",
    "\n",
    "# Callback function definition\n",
    "# TODO4: Add 5 ouput components\n",
    "@app.callback([Output(component_id='plot1', component_property='children'),\n",
    "               Output(component_id='plot2', component_property='children'),\n",
    "               Output(component_id='plot3', component_property='children'),\n",
    "               Output(component_id='plot4', component_property='children'),\n",
    "               Output(component_id='plot5', component_property='children')],\n",
    "               [Input(component_id='input-type', component_property='value'),\n",
    "                Input(component_id='input-year', component_property='value')],\n",
    "               # REVIEW4: Holding output state till user enters all the form information. In this case, it will be chart type and year\n",
    "               [State(\"plot1\", 'children'), State(\"plot2\", \"children\"),\n",
    "                State(\"plot3\", \"children\"), State(\"plot4\", \"children\"),\n",
    "                State(\"plot5\", \"children\")\n",
    "               ])\n",
    "# Add computation to callback function and return graph\n",
    "def get_graph(chart, year, children1, children2, c3, c4, c5):\n",
    "      \n",
    "        # Select data\n",
    "        df =  airline_data[airline_data['Year']==int(year)]\n",
    "       \n",
    "        if chart == 'OPT1':\n",
    "            # Compute required information for creating graph from the data\n",
    "            bar_data, line_data, div_data, map_data, tree_data = compute_data_choice_1(df)\n",
    "            \n",
    "            # Number of flights under different cancellation categories\n",
    "            bar_fig = px.bar(bar_data, x='Month', y='Flights', color='CancellationCode', title='Monthly Flight Cancellation')\n",
    "            \n",
    "            # TODO5: Average flight time by reporting airline\n",
    "            line_fig = px.line(line_data, x='Month', y='AirTime', color='Reporting_Airline', title='Average monthly flight time (minutes) by airline')\n",
    "            \n",
    "            # Percentage of diverted airport landings per reporting airline\n",
    "            pie_fig = px.pie(div_data, values='Flights', names='Reporting_Airline', title='% of flights by reporting airline')\n",
    "            \n",
    "            # REVIEW5: Number of flights flying from each state using choropleth\n",
    "            map_fig = px.choropleth(map_data,  # Input data\n",
    "                    locations='OriginState', \n",
    "                    color='Flights',  \n",
    "                    hover_data=['OriginState', 'Flights'], \n",
    "                    locationmode = 'USA-states', # Set to plot as US States\n",
    "                    color_continuous_scale='GnBu',\n",
    "                    range_color=[0, map_data['Flights'].max()]) \n",
    "            map_fig.update_layout(\n",
    "                    title_text = 'Number of flights from origin state', \n",
    "                    geo_scope='usa') # Plot only the USA instead of globe\n",
    "            \n",
    "            # TODO6: Number of flights flying to each state from each reporting airline\n",
    "            tree_fig = px.treemap(tree_data, path=['DestState', 'Reporting_Airline'], \n",
    "                      values='Flights',\n",
    "                      color='Flights',\n",
    "                      color_continuous_scale='RdBu',\n",
    "                      title='Flight count by airline to destination state')\n",
    "            \n",
    "            \n",
    "            # REVIEW6: Return dcc.Graph component to the empty division\n",
    "            return [dcc.Graph(figure=tree_fig), \n",
    "                    dcc.Graph(figure=pie_fig),\n",
    "                    dcc.Graph(figure=map_fig),\n",
    "                    dcc.Graph(figure=bar_fig),\n",
    "                    dcc.Graph(figure=line_fig)\n",
    "                   ]\n",
    "        else:\n",
    "            # REVIEW7: This covers chart type 2 and we have completed this exercise under Flight Delay Time Statistics Dashboard section\n",
    "            # Compute required information for creating graph from the data\n",
    "            avg_car, avg_weather, avg_NAS, avg_sec, avg_late = compute_data_choice_2(df)\n",
    "            \n",
    "            # Create graph\n",
    "            carrier_fig = px.line(avg_car, x='Month', y='CarrierDelay', color='Reporting_Airline', title='Average carrrier delay time (minutes) by airline')\n",
    "            weather_fig = px.line(avg_weather, x='Month', y='WeatherDelay', color='Reporting_Airline', title='Average weather delay time (minutes) by airline')\n",
    "            nas_fig = px.line(avg_NAS, x='Month', y='NASDelay', color='Reporting_Airline', title='Average NAS delay time (minutes) by airline')\n",
    "            sec_fig = px.line(avg_sec, x='Month', y='SecurityDelay', color='Reporting_Airline', title='Average security delay time (minutes) by airline')\n",
    "            late_fig = px.line(avg_late, x='Month', y='LateAircraftDelay', color='Reporting_Airline', title='Average late aircraft delay time (minutes) by airline')\n",
    "            \n",
    "            return[dcc.Graph(figure=carrier_fig), \n",
    "                   dcc.Graph(figure=weather_fig), \n",
    "                   dcc.Graph(figure=nas_fig), \n",
    "                   dcc.Graph(figure=sec_fig), \n",
    "                   dcc.Graph(figure=late_fig)]\n",
    "\n",
    "\n",
    "# Run the app\n",
    "if __name__ == '__main__':\n",
    "    # REVIEW8: Adding dev_tools_ui=False, dev_tools_props_check=False can prevent error appearing before calling callback function\n",
    "    app.run_server(mode=\"inline\", host=\"localhost\", debug=False, dev_tools_ui=False, dev_tools_props_check=False)"
   ]
  },
  {
   "cell_type": "markdown",
   "metadata": {},
   "source": [
    "## Summary\n",
    "\n",
    "Congratulations for completing your dash and plotly assignment.\n",
    "\n",
    "More information about the libraries can be found [here](https://dash.plotly.com/?utm_medium=Exinfluencer&utm_source=Exinfluencer&utm_content=000026UJ&utm_term=10006555&utm_id=NA-SkillsNetwork-Channel-SkillsNetworkCoursesIBMDeveloperSkillsNetworkDV0101ENSkillsNetwork20297740-2021-01-01)\n"
   ]
  },
  {
   "cell_type": "markdown",
   "metadata": {},
   "source": [
    "## Author\n",
    "\n",
    "[Saishruthi Swaminathan](https://www.linkedin.com/in/saishruthi-swaminathan/?utm_medium=Exinfluencer&utm_source=Exinfluencer&utm_content=000026UJ&utm_term=10006555&utm_id=NA-SkillsNetwork-Channel-SkillsNetworkCoursesIBMDeveloperSkillsNetworkDV0101ENSkillsNetwork20297740-2021-01-01)\n"
   ]
  },
  {
   "cell_type": "markdown",
   "metadata": {},
   "source": [
    "## Changelog\n",
    "\n",
    "| Date       | Version | Changed by | Change Description                   |\n",
    "| ---------- | ------- | ---------- | ------------------------------------ |\n",
    "| 12-18-2020 | 1.0     | Nayef      | Added dataset link and upload to Git |\n"
   ]
  },
  {
   "cell_type": "markdown",
   "metadata": {},
   "source": [
    "## <h3 align=\"center\"> © IBM Corporation 2020. All rights reserved. <h3/>\n"
   ]
  },
  {
   "cell_type": "code",
   "execution_count": null,
   "metadata": {},
   "outputs": [],
   "source": []
  }
 ],
 "metadata": {
  "kernelspec": {
   "display_name": "Python 3",
   "language": "python",
   "name": "python3"
  },
  "language_info": {
   "codemirror_mode": {
    "name": "ipython",
    "version": 3
   },
   "file_extension": ".py",
   "mimetype": "text/x-python",
   "name": "python",
   "nbconvert_exporter": "python",
   "pygments_lexer": "ipython3",
   "version": "3.8.8"
  }
 },
 "nbformat": 4,
 "nbformat_minor": 4
}
